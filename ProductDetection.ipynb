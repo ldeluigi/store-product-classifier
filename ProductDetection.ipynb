{
  "nbformat": 4,
  "nbformat_minor": 0,
  "metadata": {
    "colab": {
      "name": "ProductDetection.ipynb",
      "private_outputs": true,
      "provenance": [],
      "collapsed_sections": [
        "8c-J_rx58YtO",
        "jcB1_JdoNOBu",
        "JUSUqmzUNoST",
        "c3MOBrBrNoSW",
        "3jtpyydaNoSW",
        "czcedvVCNoSX",
        "9LR8gLNUNoSY",
        "VOyo96qdNoSY",
        "7Q7xa0oHNoSY",
        "y57LoZkRNoSZ",
        "zRy8VWHfNoSZ",
        "rRP-7eNPTXew",
        "6V61BV2qd3DL",
        "T_I9ucDlkhd1",
        "qNhvyoBjpz3t"
      ],
      "toc_visible": true,
      "include_colab_link": true
    },
    "kernelspec": {
      "name": "python3",
      "display_name": "Python 3"
    },
    "accelerator": "GPU"
  },
  "cells": [
    {
      "cell_type": "markdown",
      "metadata": {
        "id": "view-in-github",
        "colab_type": "text"
      },
      "source": [
        "<a href=\"https://colab.research.google.com/github/ldeluigi/supermarket-2077-product-vision/blob/master/ProductDetection.ipynb\" target=\"_parent\"><img src=\"https://colab.research.google.com/assets/colab-badge.svg\" alt=\"Open In Colab\"/></a>"
      ]
    },
    {
      "cell_type": "markdown",
      "metadata": {
        "id": "zdlCQFyABGy3"
      },
      "source": [
        "## Download datasets"
      ]
    },
    {
      "cell_type": "code",
      "metadata": {
        "id": "RQmWhRKUE5oy"
      },
      "source": [
        "!rm -rf sample_data\r\n",
        "!gdown --id 1fDr4g4wbnSRkuCYyS3wpuJS7Ax22bVB_ -O all.zip\r\n",
        "!unzip -oq all.zip\r\n",
        "\r\n",
        "%matplotlib inline"
      ],
      "execution_count": null,
      "outputs": []
    },
    {
      "cell_type": "code",
      "metadata": {
        "id": "9kHPM90jGwf0"
      },
      "source": [
        "#!pip install opencv-python==3.4.2.17\r\n",
        "#!pip install opencv-contrib-python==3.4.2.17"
      ],
      "execution_count": null,
      "outputs": []
    },
    {
      "cell_type": "markdown",
      "metadata": {
        "id": "7fG1BAIjUP_7"
      },
      "source": [
        "## Imports"
      ]
    },
    {
      "cell_type": "code",
      "metadata": {
        "id": "cLso_ssrUTuB"
      },
      "source": [
        "import scipy.io\r\n",
        "import os\r\n",
        "from pathlib import Path\r\n",
        "import re\r\n",
        "import cv2\r\n",
        "import matplotlib.pyplot as plt\r\n",
        "import numpy as np\r\n",
        "import math\r\n",
        "import itertools\r\n",
        "import shutil\r\n",
        "from tqdm.notebook import tqdm\r\n",
        "from keras.preprocessing.image import ImageDataGenerator\r\n",
        "import tensorflow as tf\r\n",
        "from sklearn.metrics import confusion_matrix"
      ],
      "execution_count": null,
      "outputs": []
    },
    {
      "cell_type": "markdown",
      "metadata": {
        "id": "8c-J_rx58YtO"
      },
      "source": [
        "## Data loaders"
      ]
    },
    {
      "cell_type": "code",
      "metadata": {
        "id": "vDIdYTwp8ep0"
      },
      "source": [
        "training_dirname = 'Training'\r\n",
        "\r\n",
        "def create_class_label(class_index, class_name):\r\n",
        "  return class_name\r\n",
        "\r\n",
        "def read_classes():\r\n",
        "  mat = scipy.io.loadmat(os.path.join(training_dirname, 'TrainingClassesIndex.mat'))\r\n",
        "  raw_classes = list(map(lambda x: x[0], mat['classes'][0]))\r\n",
        "  classes = map(lambda x: (x[0], create_class_label(*x)), enumerate(raw_classes, start=1))\r\n",
        "  return dict(classes), dict(enumerate(raw_classes, start=1))\r\n",
        "\r\n",
        "def read_training_data(classes):\r\n",
        "  result = []\r\n",
        "  for class_index, class_name in classes.items():\r\n",
        "    dirname_images = os.path.join(training_dirname, class_name)\r\n",
        "    directory_images = os.fsencode(dirname_images)\r\n",
        "    for file in os.listdir(directory_images):\r\n",
        "      img = cv2.imread(os.path.join(dirname_images, os.fsdecode(file)))\r\n",
        "      img_rgb =  cv2.cvtColor(img, cv2.COLOR_BGR2RGB)\r\n",
        "      result.append((img_rgb, class_index))\r\n",
        "  return np.rec.array(result, dtype=[('image', 'O'), ('class_index', 'i4')])\r\n",
        "\r\n",
        "def read_store_data(storename):\r\n",
        "  dirname_anno = os.path.join(storename, 'annotation')\r\n",
        "  dirname_images = os.path.join(storename, 'images')\r\n",
        "  directory_anno = os.fsencode(dirname_anno)\r\n",
        "  directory_images = os.fsencode(dirname_images)\r\n",
        "\r\n",
        "  result = []\r\n",
        "\r\n",
        "  for file in os.listdir(directory_anno):\r\n",
        "    filename = os.fsdecode(file)\r\n",
        "    if filename.endswith(\".mat\"): \r\n",
        "      mat = scipy.io.loadmat(os.path.join(dirname_anno, filename))\r\n",
        "      number = re.search(r'^anno.(\\d+).mat$', filename).group(1)\r\n",
        "      img = cv2.imread(os.path.join(dirname_images, number + '.jpg'))\r\n",
        "\r\n",
        "      img_rgb = cv2.cvtColor(img, cv2.COLOR_BGR2RGB)\r\n",
        "      img_annotation = mat['annotation'][0, 0]\r\n",
        "      bboxes = map(lambda x: x[0], img_annotation[0][0])\r\n",
        "      labels = map(lambda x: str(x[0][0][0]), img_annotation[1][0])\r\n",
        "      class_indexes = img_annotation[2][0]\r\n",
        "      result.append((img_rgb, list(zip(bboxes, labels, class_indexes))))\r\n",
        "  return np.rec.array(result, dtype=[('image', 'O'), ('items', 'O')])"
      ],
      "execution_count": null,
      "outputs": []
    },
    {
      "cell_type": "markdown",
      "metadata": {
        "id": "jcB1_JdoNOBu"
      },
      "source": [
        "## Data visualization utilities"
      ]
    },
    {
      "cell_type": "code",
      "metadata": {
        "id": "-x36OMLMbXC4"
      },
      "source": [
        "def show_image(img):\r\n",
        "  plt.axis('off')\r\n",
        "  plt.imshow(img)\r\n",
        "\r\n",
        "def show_grayscale_image(img):\r\n",
        "  show_image(cv2.merge([img, img, img]))\r\n",
        "\r\n",
        "def plot_grid(images, columns, show_axis=False, labels=None):\r\n",
        "  if len(images) == 0 or columns <= 0:\r\n",
        "    return\r\n",
        "  height = 1 + math.ceil(len(images) / columns) * 2\r\n",
        "  width = columns * 4\r\n",
        "  dpi = max(images[0].shape[0], images[0].shape[1]) // 2\r\n",
        "  fig = plt.figure(figsize=(width, height), dpi=dpi)\r\n",
        "  fig.subplots_adjust(hspace=0.4)\r\n",
        "  for index, img in enumerate(images, start=1):\r\n",
        "    if 'float' in img.dtype.str:\r\n",
        "      img = (img * 255).astype('uint8')\r\n",
        "    sp = fig.add_subplot(math.ceil(len(images) / columns), columns, index)\r\n",
        "    if not show_axis:\r\n",
        "      plt.axis('off')\r\n",
        "    plt.imshow(img)\r\n",
        "    if labels is not None:\r\n",
        "      l = len(labels)\r\n",
        "      sp.set_title(labels[(index-1) % l], fontsize=10)\r\n",
        "    else:\r\n",
        "      sp.set_title(index, fontsize=10)\r\n",
        "\r\n",
        "def dataset_plot_grid(indexes, columns, dataset, draw_item):\r\n",
        "  fig = plt.figure(figsize=(12, 6), dpi=120)\r\n",
        "  # fig.subplots_adjust(hspace=0.2)\r\n",
        "  for index, i_img in enumerate(indexes, start=1):\r\n",
        "    sp = fig.add_subplot(math.ceil(len(indexes) / columns), columns, index)\r\n",
        "    row = dataset[i_img]\r\n",
        "    draw_item(row, sp)"
      ],
      "execution_count": null,
      "outputs": []
    },
    {
      "cell_type": "markdown",
      "metadata": {
        "id": "jw3JJrEHNDaX"
      },
      "source": [
        "# Image search"
      ]
    },
    {
      "cell_type": "markdown",
      "metadata": {
        "id": "JUSUqmzUNoST"
      },
      "source": [
        "## Prepare products class dictionary"
      ]
    },
    {
      "cell_type": "code",
      "metadata": {
        "id": "exz2n1l6NoSW"
      },
      "source": [
        "classes, raw_classes = read_classes()\r\n",
        "\r\n",
        "def class_name(class_index):\r\n",
        "  return classes[class_index] if class_index >= 0 else None"
      ],
      "execution_count": null,
      "outputs": []
    },
    {
      "cell_type": "markdown",
      "metadata": {
        "id": "c3MOBrBrNoSW"
      },
      "source": [
        "## Load training raw images"
      ]
    },
    {
      "cell_type": "code",
      "metadata": {
        "id": "M_yK63lINoSW"
      },
      "source": [
        "products = read_training_data(raw_classes)"
      ],
      "execution_count": null,
      "outputs": []
    },
    {
      "cell_type": "markdown",
      "metadata": {
        "id": "3jtpyydaNoSW"
      },
      "source": [
        "## Products visualization"
      ]
    },
    {
      "cell_type": "code",
      "metadata": {
        "id": "5rUxXKFSNoSX"
      },
      "source": [
        "def show_products_with_class(indexes, columns, dataset):\r\n",
        "  def show_single_product_with_class(row, sp):\r\n",
        "    plt.axis('off')\r\n",
        "    plt.imshow(row.image)\r\n",
        "    sp.set_title(class_name(row.class_index), fontsize=10)\r\n",
        "  dataset_plot_grid(indexes, columns, dataset, show_single_product_with_class)\r\n",
        "\r\n",
        "show_products_with_class(np.random.randint(0, len(products), 6), 3, products)"
      ],
      "execution_count": null,
      "outputs": []
    },
    {
      "cell_type": "markdown",
      "metadata": {
        "id": "czcedvVCNoSX"
      },
      "source": [
        "## Image preprocessing"
      ]
    },
    {
      "cell_type": "markdown",
      "metadata": {
        "id": "UM9BsdVmNoSX"
      },
      "source": [
        "### Background removal"
      ]
    },
    {
      "cell_type": "code",
      "metadata": {
        "id": "go6lv7htNoSX"
      },
      "source": [
        "# code taken from https://www.kaggle.com/vadbeg/opencv-background-removal and modified\r\n",
        "\r\n",
        "def remove_background(img, threshold):\r\n",
        "    gray = cv2.cvtColor(img, cv2.COLOR_RGB2GRAY)\r\n",
        "    _, threshed = cv2.threshold(gray, threshold, 255, cv2.THRESH_BINARY_INV)\r\n",
        "\r\n",
        "    kernel_size = round(max(img.shape[0], img.shape[1]) * 0.02)\r\n",
        "    kernel = cv2.getStructuringElement(cv2.MORPH_ELLIPSE, (kernel_size, kernel_size))\r\n",
        "    morphed = cv2.morphologyEx(threshed, cv2.MORPH_CLOSE, kernel)\r\n",
        "\r\n",
        "    cnts = cv2.findContours(morphed, \r\n",
        "                            cv2.RETR_EXTERNAL,\r\n",
        "                            cv2.CHAIN_APPROX_SIMPLE)[0] # should be [1] for cv2 version <= 4\r\n",
        "\r\n",
        "    cnts = sorted(cnts, key=cv2.contourArea)\r\n",
        "\r\n",
        "    mask = cv2.drawContours(threshed, [cnts[-1]], 0, [255], cv2.FILLED)\r\n",
        "    masked_data = cv2.bitwise_and(img, img, mask=mask)\r\n",
        "\r\n",
        "    x, y, w, h = cv2.boundingRect(cnts[-1])\r\n",
        "    dst = masked_data[y: y + h, x: x + w]\r\n",
        "\r\n",
        "    alpha = mask[y: y + h, x: x + w]\r\n",
        "    r, g, b = cv2.split(dst)\r\n",
        "\r\n",
        "    rgba = [r, g, b, alpha]\r\n",
        "    dst = cv2.merge(rgba, 4)\r\n",
        "    return dst\r\n",
        "\r\n",
        "n = np.random.randint(products.shape[0])\r\n",
        "print(f'Index: {n}')\r\n",
        "print(f'Class: {class_name(products[n].class_index)}')\r\n",
        "plot_grid([products[n].image, remove_background(products[n].image, 250)], 2, show_axis=True)"
      ],
      "execution_count": null,
      "outputs": []
    },
    {
      "cell_type": "markdown",
      "metadata": {
        "id": "v7z17jtMNoSX"
      },
      "source": [
        "### Image resize"
      ]
    },
    {
      "cell_type": "code",
      "metadata": {
        "id": "ICMAZEihNoSY"
      },
      "source": [
        "def resize_image(img, size, color=[0,0,0,0]):\r\n",
        "  target_w, target_h = size\r\n",
        "  original_h, original_w, _ = img.shape\r\n",
        "  target_ar = target_w / target_h\r\n",
        "  original_ar = original_w / original_h\r\n",
        "\r\n",
        "  scale_factor = target_h / original_h if target_ar > original_ar else target_w / original_w\r\n",
        "  scaled_w = round(original_w * scale_factor)\r\n",
        "  scaled_h = round(original_h * scale_factor)\r\n",
        "  scaled_size = (scaled_w, scaled_h)\r\n",
        "  resized = cv2.resize(img, scaled_size)\r\n",
        "\r\n",
        "  delta_h = target_h - scaled_h\r\n",
        "  delta_w = target_w - scaled_w\r\n",
        "  top    = delta_h // 2\r\n",
        "  left   = delta_w // 2\r\n",
        "  bottom = delta_h - top\r\n",
        "  right  = delta_w - left\r\n",
        "\r\n",
        "  return cv2.copyMakeBorder(resized, top, bottom, left, right, cv2.BORDER_CONSTANT, value=color)\r\n",
        "\r\n",
        "n = np.random.randint(products.shape[0])\r\n",
        "image = products[n].image\r\n",
        "image = remove_background(image, 250)\r\n",
        "plot_grid([image, resize_image(image, (400, 400))], 2, show_axis=True)"
      ],
      "execution_count": null,
      "outputs": []
    },
    {
      "cell_type": "markdown",
      "metadata": {
        "id": "9LR8gLNUNoSY"
      },
      "source": [
        "## Dataset preparation\r\n",
        "\r\n"
      ]
    },
    {
      "cell_type": "markdown",
      "metadata": {
        "id": "VOyo96qdNoSY"
      },
      "source": [
        "### Image cleaning"
      ]
    },
    {
      "cell_type": "code",
      "metadata": {
        "id": "ErK6wz2TNoSY"
      },
      "source": [
        "size = (224, 224)\r\n",
        "\r\n",
        "def clean_image(img):\r\n",
        "  threshold = 250\r\n",
        "  img = remove_background(img, threshold)\r\n",
        "  return resize_image(img, size)"
      ],
      "execution_count": null,
      "outputs": []
    },
    {
      "cell_type": "markdown",
      "metadata": {
        "id": "7Q7xa0oHNoSY"
      },
      "source": [
        "### Export new dataset on disk\r\n",
        "\r\n",
        "Optionally reduce it to save memory."
      ]
    },
    {
      "cell_type": "code",
      "metadata": {
        "id": "tec-feRdNoSZ"
      },
      "source": [
        "number_of_images_to_save = 1000\r\n",
        "reduce_dataset = False"
      ],
      "execution_count": null,
      "outputs": []
    },
    {
      "cell_type": "code",
      "metadata": {
        "id": "AkmiotkwNoSZ"
      },
      "source": [
        "train_data_directory = 'Temp'\r\n",
        "shutil.rmtree(train_data_directory, ignore_errors=True)\r\n",
        "\r\n",
        "index_to_class_map = dict()\r\n",
        "def index_to_class(index):\r\n",
        "  # We could search in products for O(n)\r\n",
        "  # Instead we use a map for O(1)\r\n",
        "  return index_to_class_map[index]\r\n",
        "\r\n",
        "if reduce_dataset:\r\n",
        "  products_size = number_of_images_to_save\r\n",
        "  products_to_dump = np.random.choice(products.shape[0], number_of_images_to_save, replace = False)\r\n",
        "else:\r\n",
        "  products_size = products.shape[0]\r\n",
        "  products_to_dump = np.arange(products_size)\r\n",
        "\r\n",
        "for index, product_index in tqdm(enumerate(products_to_dump), total=products_size, desc='Writing files...'):\r\n",
        "  image, class_index = products[product_index]\r\n",
        "  index_str = f'{index:04d}'\r\n",
        "  output_dir = os.path.join(train_data_directory, index_str)\r\n",
        "  Path(output_dir).mkdir(parents=True, exist_ok=True)\r\n",
        "  out = cv2.cvtColor(clean_image(image), cv2.COLOR_RGBA2BGRA)\r\n",
        "  cv2.imwrite(os.path.join(output_dir, f'{index_str}.png'), out)\r\n",
        "  index_to_class_map[index] = class_index"
      ],
      "execution_count": null,
      "outputs": []
    },
    {
      "cell_type": "markdown",
      "metadata": {
        "id": "y57LoZkRNoSZ"
      },
      "source": [
        "## Data Augmentation"
      ]
    },
    {
      "cell_type": "markdown",
      "metadata": {
        "id": "zRy8VWHfNoSZ"
      },
      "source": [
        "### 3D rotation"
      ]
    },
    {
      "cell_type": "code",
      "metadata": {
        "id": "91PXTIneNoSZ"
      },
      "source": [
        "def image_3D_rotation(img, theta = 0, phi = 0, gamma = 0, dx = 0, dy = 0, dz = 0):\r\n",
        "  \"\"\"\r\n",
        "  Parameters:\r\n",
        "      img       : the image data as numpy array\r\n",
        "      theta     : rotation around the x axis\r\n",
        "      phi       : rotation around the y axis\r\n",
        "      gamma     : rotation around the z axis (basically a 2D rotation)\r\n",
        "      dx        : translation along the x axis\r\n",
        "      dy        : translation along the y axis\r\n",
        "      dz        : translation along the z axis (distance to the image)\r\n",
        "  Output:\r\n",
        "      image     : the rotated image\r\n",
        "  \r\n",
        "  Reference:\r\n",
        "      1.        : http://stackoverflow.com/questions/17087446/how-to-calculate-perspective-transform-for-opencv-from-rotation-angles\r\n",
        "      2.        : http://jepsonsblog.blogspot.tw/2012/11/rotation-in-3d-using-opencvs.html\r\n",
        "      3.        : Code taken from https://github.com/eborboihuc/rotate_3d/blob/master/image_transformer.py\r\n",
        "  \"\"\"\r\n",
        "  def deg_to_rad(deg):\r\n",
        "    return deg * math.pi / 180.0\r\n",
        "  def get_M(theta, phi, gamma, dx, dy, dz, size, focal):\r\n",
        "    w = size[0]\r\n",
        "    h = size[1]\r\n",
        "    f = focal\r\n",
        "    # Projection 2D -> 3D matrix\r\n",
        "    A1 = np.array([ [1, 0, -w/2],\r\n",
        "                    [0, 1, -h/2],\r\n",
        "                    [0, 0, 1],\r\n",
        "                    [0, 0, 1]])\r\n",
        "    # Rotation matrices around the X, Y, and Z axis\r\n",
        "    RX = np.array([ [1, 0, 0, 0],\r\n",
        "                    [0, np.cos(theta), -np.sin(theta), 0],\r\n",
        "                    [0, np.sin(theta), np.cos(theta), 0],\r\n",
        "                    [0, 0, 0, 1]])\r\n",
        "    RY = np.array([ [np.cos(phi), 0, -np.sin(phi), 0],\r\n",
        "                    [0, 1, 0, 0],\r\n",
        "                    [np.sin(phi), 0, np.cos(phi), 0],\r\n",
        "                    [0, 0, 0, 1]])\r\n",
        "    RZ = np.array([ [np.cos(gamma), -np.sin(gamma), 0, 0],\r\n",
        "                    [np.sin(gamma), np.cos(gamma), 0, 0],\r\n",
        "                    [0, 0, 1, 0],\r\n",
        "                    [0, 0, 0, 1]])\r\n",
        "    # Composed rotation matrix with (RX, RY, RZ)\r\n",
        "    R = np.dot(np.dot(RX, RY), RZ)\r\n",
        "    # Translation matrix\r\n",
        "    T = np.array([  [1, 0, 0, dx],\r\n",
        "                    [0, 1, 0, dy],\r\n",
        "                    [0, 0, 1, dz],\r\n",
        "                    [0, 0, 0, 1]])\r\n",
        "    # Projection 3D -> 2D matrix\r\n",
        "    A2 = np.array([ [f, 0, w/2, 0],\r\n",
        "                    [0, f, h/2, 0],\r\n",
        "                    [0, 0, 1, 0]])\r\n",
        "    # Final transformation matrix\r\n",
        "    return np.dot(A2, np.dot(T, np.dot(R, A1)))\r\n",
        "  height = img.shape[0]\r\n",
        "  width = img.shape[1]\r\n",
        "  num_channels = img.shape[2]\r\n",
        "  rtheta = deg_to_rad(theta)\r\n",
        "  rphi = deg_to_rad(phi)\r\n",
        "  rgamma = deg_to_rad(gamma)\r\n",
        "  d = np.sqrt(height**2 + width**2)\r\n",
        "  focal = d / (2 * np.sin(rgamma) if np.sin(rgamma) != 0 else 1)\r\n",
        "  dz = focal\r\n",
        "  mat = get_M(rtheta, rphi, rgamma, dx, dy, dz, (width, height), focal)\r\n",
        "  return cv2.warpPerspective(img.copy(), mat, (width, height))\r\n",
        "\r\n",
        "def random_spatial_rotation(theta_range, phi_range, gamma_range):\r\n",
        "  return lambda img: image_3D_rotation(\r\n",
        "    img, \r\n",
        "    theta = np.random.randint(theta_range[0], theta_range[1] + 1),\r\n",
        "    phi = np.random.randint(phi_range[0], phi_range[1] + 1),\r\n",
        "    gamma = np.random.randint(gamma_range[0], gamma_range[1] + 1)\r\n",
        "  )"
      ],
      "execution_count": null,
      "outputs": []
    },
    {
      "cell_type": "markdown",
      "metadata": {
        "id": "neTkXKe3NoSa"
      },
      "source": [
        "### Data generator parameters definition"
      ]
    },
    {
      "cell_type": "code",
      "metadata": {
        "id": "qlxioavxNoSa"
      },
      "source": [
        "real_datagen = ImageDataGenerator(\r\n",
        "    data_format = 'channels_last',\r\n",
        ")\r\n",
        "\r\n",
        "augmented_datagen = ImageDataGenerator(\r\n",
        "    brightness_range = [0.5, 1.2],\r\n",
        "    width_shift_range = size[0] // 10,\r\n",
        "    height_shift_range = size[1] // 10,\r\n",
        "    zoom_range = 0.1,\r\n",
        "    fill_mode = 'constant',\r\n",
        "    cval = 0,\r\n",
        "    data_format = 'channels_last',\r\n",
        "    preprocessing_function = random_spatial_rotation(\r\n",
        "      theta_range = (-20, 20),\r\n",
        "      phi_range = (-30, 30),\r\n",
        "      gamma_range = (-10, 10)\r\n",
        "    )\r\n",
        ")\r\n",
        "\r\n",
        "def create_flow(single_pass = False):\r\n",
        "  rd = real_datagen.flow_from_directory(\r\n",
        "    directory = train_data_directory,\r\n",
        "    target_size = size,\r\n",
        "    color_mode = 'rgba',\r\n",
        "    class_mode = 'sparse',\r\n",
        "    batch_size = 1,\r\n",
        "    shuffle = True\r\n",
        "  )\r\n",
        "  if single_pass:\r\n",
        "    return itertools.islice(rd, rd.samples)\r\n",
        "  return rd\r\n",
        "\r\n",
        "def flow_to_augmented_tuple(t):\r\n",
        "  rescale = 1./255\r\n",
        "  original = t[0][0] * rescale\r\n",
        "  transformed = augmented_datagen.random_transform(augmented_datagen.preprocessing_function(t[0][0])) * rescale\r\n",
        "  label = t[1][0]\r\n",
        "  return original, transformed, label\r\n",
        "\r\n",
        "def flow_to_tuple(t):\r\n",
        "  rescale = 1./255\r\n",
        "  original = t[0][0] * rescale\r\n",
        "  label = t[1][0]\r\n",
        "  return original, label\r\n",
        "\r\n",
        "def mismatched_images():\r\n",
        "  flow_1 = create_flow()\r\n",
        "  flow_2 = create_flow()\r\n",
        "  while True:\r\n",
        "    t_1 = next(flow_1)\r\n",
        "    t_2 = next(flow_2)\r\n",
        "    if t_1[1][0] != t_2[1][0]:\r\n",
        "      image, _ = flow_to_tuple(t_1)\r\n",
        "      _, transformed, _ = flow_to_augmented_tuple(t_2)\r\n",
        "      yield image, transformed\r\n",
        "    else:\r\n",
        "      next(flow_1) # used for misaligning iterators\r\n",
        "\r\n",
        "def matched_images(single_pass = False):\r\n",
        "  flow = create_flow(single_pass)\r\n",
        "  for original, transformed, _ in map(flow_to_augmented_tuple, flow):\r\n",
        "    yield original, transformed\r\n",
        "\r\n",
        "def single_images(single_pass = False):\r\n",
        "  flow = create_flow(single_pass)\r\n",
        "  return map(flow_to_tuple, flow)\r\n",
        "\r\n",
        "def single_altered_images(single_pass = False):\r\n",
        "  flow = create_flow(single_pass)\r\n",
        "  def tuple_f(t):\r\n",
        "    _, transformed, label = flow_to_augmented_tuple(t)\r\n",
        "    return transformed, label\r\n",
        "  return map(tuple_f, flow)\r\n",
        "\r\n",
        "res = []\r\n",
        "it = matched_images()\r\n",
        "for _ in range(10):\r\n",
        "  t = next(it)\r\n",
        "  res.append(t[0])\r\n",
        "  res.append(t[1])\r\n",
        "\r\n",
        "plot_grid(res, 2, labels=[\"Original\", \"Same, altered\"])\r\n",
        "\r\n",
        "res = []\r\n",
        "it = mismatched_images()\r\n",
        "for _ in range(10):\r\n",
        "  t = next(it)\r\n",
        "  res.append(t[0])\r\n",
        "  res.append(t[1])\r\n",
        "\r\n",
        "plot_grid(res, 2, labels=[\"Original\", \"Other, altered\"])\r\n",
        "del res, it"
      ],
      "execution_count": null,
      "outputs": []
    },
    {
      "cell_type": "code",
      "metadata": {
        "id": "FO85Ns5VPXEH"
      },
      "source": [
        "def probability_merge(it_1, it_2, p = 0.5):\r\n",
        "  while True:\r\n",
        "    rand = np.random.random()\r\n",
        "    it, label = (it_1, 1) if rand < p else (it_2, 0)\r\n",
        "    original, transformed = next(it)\r\n",
        "    yield original, transformed, label\r\n",
        "\r\n",
        "it = probability_merge(mismatched_images(), matched_images(), p = 0.5)\r\n",
        "res = []\r\n",
        "for _ in range(20):\r\n",
        "  t = next(it)\r\n",
        "  res.append(t[0])\r\n",
        "  res.append(t[1])\r\n",
        "\r\n",
        "plot_grid(res, 2, labels=[\"First\", \"Second\"])\r\n",
        "del res, it"
      ],
      "execution_count": null,
      "outputs": []
    },
    {
      "cell_type": "markdown",
      "metadata": {
        "id": "NwBJTAbWTBKW"
      },
      "source": [
        "## Model definition"
      ]
    },
    {
      "cell_type": "markdown",
      "metadata": {
        "id": "L1k_JTtijeoI"
      },
      "source": [
        "### Performance Evaluation"
      ]
    },
    {
      "cell_type": "code",
      "metadata": {
        "id": "WsDVZMnqjiXT"
      },
      "source": [
        "def accuracy(extract_features, compute_feature_distance, threshold, n = 100):\r\n",
        "  actual = []\r\n",
        "  predicted = []\r\n",
        "  false_positives = []\r\n",
        "  false_negatives = []\r\n",
        "  it = probability_merge(mismatched_images(), matched_images(), p = 0.5)\r\n",
        "  for _ in tqdm(range(n), total=n, desc='Calculating accuracy...'):\r\n",
        "    original, transformed, label = next(it)\r\n",
        "    original_features = extract_features(original)\r\n",
        "    transformed_features = extract_features(transformed)\r\n",
        "    distance = compute_feature_distance(original_features, transformed_features)\r\n",
        "    prediction = 1 if distance > threshold else 0\r\n",
        "    actual.append(label)\r\n",
        "    predicted.append(prediction)\r\n",
        "    if label != prediction:\r\n",
        "      (false_positives if prediction == 0 else false_negatives).append((original, transformed))\r\n",
        "  confusion = confusion_matrix(actual, predicted)\r\n",
        "  print(confusion)\r\n",
        "  to_be_plotted = []\r\n",
        "  for original, transformed in false_positives:\r\n",
        "    to_be_plotted.append(original)\r\n",
        "    to_be_plotted.append(transformed)\r\n",
        "  plot_grid(to_be_plotted, 2, labels=['Original', 'False positive'])\r\n",
        "\r\n",
        "  to_be_plotted = []\r\n",
        "  for original, transformed in false_negatives:\r\n",
        "    to_be_plotted.append(original)\r\n",
        "    to_be_plotted.append(transformed)\r\n",
        "  plot_grid(to_be_plotted, 2, labels=['Original', 'False negative'])"
      ],
      "execution_count": null,
      "outputs": []
    },
    {
      "cell_type": "code",
      "metadata": {
        "id": "6IVh32-drtgC"
      },
      "source": [
        "feature_cache = None\r\n",
        "feature_cache_name = None\r\n",
        "def cache_features(extract_features):\r\n",
        "  global feature_cache, feature_cache_name\r\n",
        "  if extract_features.__name__ != feature_cache_name:\r\n",
        "    feature_cache_name = None\r\n",
        "  if feature_cache is None or feature_cache_name is None:\r\n",
        "    feature_cache_name = extract_features.__name__\r\n",
        "    feature_cache = []\r\n",
        "    for image, index in tqdm(single_images(single_pass = True), desc = 'Creating feature cache...'):\r\n",
        "      features = extract_features(image)\r\n",
        "      feature_cache.append((features, index))\r\n",
        "  return feature_cache"
      ],
      "execution_count": null,
      "outputs": []
    },
    {
      "cell_type": "code",
      "metadata": {
        "id": "OiaWITTaEa0f"
      },
      "source": [
        "def product_classification(img, extract_features, compute_feature_distance):\r\n",
        "  img_features = extract_features(img)\r\n",
        "  feature_db = cache_features(extract_features)\r\n",
        "  distances_iter = map(lambda fc: compute_feature_distance(fc[0], img_features), feature_db)\r\n",
        "  index, best_distance = min(enumerate(distances_iter), key=lambda x:x[1])\r\n",
        "  best_match_label = feature_db[index][1]\r\n",
        "  best_match_index = int(best_match_label)\r\n",
        "  class_index = index_to_class(best_match_index)\r\n",
        "  return best_match_index, class_index, class_name(class_index), best_distance\r\n",
        "\r\n",
        "def product_classifications(imgs, extract_features, compute_feature_distance):\r\n",
        "  return list(map(lambda im: product_classification(im, extract_features, compute_feature_distance), imgs))"
      ],
      "execution_count": null,
      "outputs": []
    },
    {
      "cell_type": "markdown",
      "metadata": {
        "id": "QYSL7uW4VVDU"
      },
      "source": [
        "### Method 1\r\n"
      ]
    },
    {
      "cell_type": "markdown",
      "metadata": {
        "id": "rRP-7eNPTXew"
      },
      "source": [
        "#### Feature extractor"
      ]
    },
    {
      "cell_type": "code",
      "metadata": {
        "id": "4HrmTYpCS9Ha"
      },
      "source": [
        "def rmse(predictions, targets):\r\n",
        "  return np.sqrt(((predictions - targets) ** 2).mean())\r\n",
        "\r\n",
        "def create_feature_extractor():\r\n",
        "  alpha = 1.0\r\n",
        "  weights = 'imagenet'\r\n",
        "  pooling = 'max'\r\n",
        "\r\n",
        "  model = tf.keras.applications.MobileNetV2(\r\n",
        "    input_shape = (*size, 3),\r\n",
        "    alpha = alpha,\r\n",
        "    include_top = False,\r\n",
        "    weights = weights,\r\n",
        "    pooling = pooling\r\n",
        "  )\r\n",
        "\r\n",
        "  return model\r\n",
        "\r\n",
        "feature_extractor = create_feature_extractor()\r\n",
        "\r\n",
        "def extract_features(img):\r\n",
        "  return feature_extractor.predict(np.asarray([img[:,:,:3]]), batch_size=1)\r\n",
        "\r\n",
        "def stats(it, n = 1):\r\n",
        "  rmses = []\r\n",
        "  for _ in range(n):\r\n",
        "    original, transformed = next(it)\r\n",
        "    original_f, transformed_f = extract_features(original), extract_features(transformed)\r\n",
        "    rmses.append(rmse(original_f, transformed_f))\r\n",
        "  \r\n",
        "  #rmses = np.asarray(rmses)\r\n",
        "  print('\\tAvg:', np.mean(rmses))\r\n",
        "  print('\\tMedian:', np.median(rmses))\r\n",
        "  print('\\tMax:', np.max(rmses))\r\n",
        "  print('\\tMin:', np.min(rmses))\r\n",
        "  print('\\tStdev:', np.std(rmses))\r\n",
        "\r\n",
        "print(\"Summary of matched images feature comparison:\")\r\n",
        "stats(matched_images(), 100)\r\n",
        "print(\"Summary of mismatched images feature comparison:\")\r\n",
        "stats(mismatched_images(), 100)\r\n",
        "\r\n",
        "#tf.keras.utils.plot_model(feature_extractor, show_shapes=True, show_layer_names=True)"
      ],
      "execution_count": null,
      "outputs": []
    },
    {
      "cell_type": "markdown",
      "metadata": {
        "id": "6V61BV2qd3DL"
      },
      "source": [
        "#### Feature classification"
      ]
    },
    {
      "cell_type": "code",
      "metadata": {
        "id": "GA4Y6lRHeOEw"
      },
      "source": [
        "rmse_threshold = 2.311 # TODO find it procedurally"
      ],
      "execution_count": null,
      "outputs": []
    },
    {
      "cell_type": "markdown",
      "metadata": {
        "id": "T_I9ucDlkhd1"
      },
      "source": [
        "#### Evaluate performance"
      ]
    },
    {
      "cell_type": "code",
      "metadata": {
        "id": "EkRL2DCnkg7S"
      },
      "source": [
        "accuracy(extract_features, rmse, rmse_threshold, n = 400)"
      ],
      "execution_count": null,
      "outputs": []
    },
    {
      "cell_type": "code",
      "metadata": {
        "id": "qpJumEgAGfMk"
      },
      "source": [
        "def column(M, c):\r\n",
        "  return [row[c] for row in M]\r\n",
        "test_size = 400\r\n",
        "test_images = list(itertools.islice(single_altered_images(), test_size))\r\n",
        "predictions = product_classifications(column(test_images, 0), extract_features, rmse)\r\n",
        "cm = confusion_matrix(column(test_images, 1), column(predictions, 0))\r\n",
        "print(\"Accuracy: \", np.trace(cm) / test_size)\r\n",
        "plot_grid(column(test_images[:20], 0), 5, labels=column(predictions[:20], 2))\r\n",
        "del test_images, predictions, cm"
      ],
      "execution_count": null,
      "outputs": []
    },
    {
      "cell_type": "markdown",
      "metadata": {
        "id": "vyKhaUWB_exX"
      },
      "source": [
        "### Method 2"
      ]
    },
    {
      "cell_type": "markdown",
      "metadata": {
        "id": "M0RuRDhs_km-"
      },
      "source": [
        "#### Feature extractor"
      ]
    },
    {
      "cell_type": "code",
      "metadata": {
        "id": "j_DnJqjT_knE"
      },
      "source": [
        "def compare_features(predictions, targets):\r\n",
        "  k_1, d_1 = predictions\r\n",
        "  k_2, d_2 = targets\r\n",
        "  bf = cv2.BFMatcher(cv2.NORM_L1, crossCheck=True)\r\n",
        "  epsilon = 1e-19\r\n",
        "  if d_1 is None or d_2 is None:\r\n",
        "    return 1 / epsilon\r\n",
        "  matches = bf.match(d_1, d_2)\r\n",
        "  matches = sorted(matches, key = lambda x:x.distance)\r\n",
        "  top_matches = matches[:50]\r\n",
        "  return 1 / sum(map(lambda m: 1 / (m.distance ** 2 + epsilon), top_matches))\r\n",
        "\r\n",
        "\r\n",
        "def create_feature_extractor():\r\n",
        "  orb = cv2.ORB_create(edgeThreshold=31) # https://docs.opencv.org/master/d1/d89/tutorial_py_orb.html\r\n",
        "  return orb\r\n",
        "\r\n",
        "feature_extractor = create_feature_extractor()\r\n",
        "\r\n",
        "def extract_features(img):\r\n",
        "  img = cv2.GaussianBlur(img, (5, 5), 0)\r\n",
        "  image8bit = cv2.cvtColor(img * 255, cv2.COLOR_RGB2GRAY).astype('uint8')\r\n",
        "  keypoints, descriptors = feature_extractor.detectAndCompute(image8bit, None) # None is the mask\r\n",
        "  if descriptors is None:\r\n",
        "    print('WARNING: no keypoints found for an image! Try lowering the threshold')\r\n",
        "  return keypoints, descriptors\r\n",
        "\r\n",
        "def stats(it, n = 1):\r\n",
        "  results = []\r\n",
        "  for _ in range(n):\r\n",
        "    original, transformed = next(it)\r\n",
        "    original_f, transformed_f = extract_features(original), extract_features(transformed)\r\n",
        "    results.append(compare_features(original_f, transformed_f))\r\n",
        "  \r\n",
        "  #results = np.asarray(results)\r\n",
        "  print('\\tAvg:', np.mean(results))\r\n",
        "  print('\\tMedian:', np.median(results))\r\n",
        "  print('\\tMax:', np.max(results))\r\n",
        "  print('\\tMin:', np.min(results))\r\n",
        "  print('\\tStdev:', np.std(results))\r\n",
        "\r\n",
        "\r\n",
        "match_iter = matched_images()\r\n",
        "mismatch_iter = mismatched_images()\r\n",
        "\r\n",
        "def show_image_comparison(first_img, second_img):\r\n",
        "  first_img_gray = cv2.cvtColor(first_img * 255, cv2.COLOR_RGB2GRAY).astype('uint8')\r\n",
        "  second_img_gray = cv2.cvtColor(second_img * 255, cv2.COLOR_RGB2GRAY).astype('uint8')\r\n",
        "  first_k, first_d = extract_features(first_img)\r\n",
        "  second_k, second_d = extract_features(second_img)\r\n",
        "  first_sift_image = cv2.drawKeypoints(first_img_gray, first_k, first_img)\r\n",
        "  second_sift_image = cv2.drawKeypoints(second_img_gray, second_k, second_img)\r\n",
        "  bf = cv2.BFMatcher(cv2.NORM_L1, crossCheck=True)\r\n",
        "  matches = bf.match(first_d, second_d)\r\n",
        "  matches = sorted(matches, key = lambda x:x.distance)\r\n",
        "  matched_img = cv2.drawMatches(first_img_gray, first_k, second_img_gray, second_k, matches[:70], second_img_gray, flags=2)\r\n",
        "  distance = compare_features((first_k, first_d), (second_k, second_d))\r\n",
        "  plot_grid([first_sift_image, second_sift_image, matched_img], 2, labels=['Original ORB', 'Altered ORB', f'Distance: {distance:.3f}'])\r\n",
        "\r\n",
        "show_image_comparison(*next(match_iter))\r\n",
        "show_image_comparison(*next(mismatch_iter))\r\n",
        "\r\n",
        "\r\n",
        "print(\"Summary of matched images feature comparison:\")\r\n",
        "stats(match_iter, 100)\r\n",
        "print(\"Summary of mismatched images feature comparison:\")\r\n",
        "stats(mismatch_iter, 100)"
      ],
      "execution_count": null,
      "outputs": []
    },
    {
      "cell_type": "markdown",
      "metadata": {
        "id": "ZBdPMnpbE3Rq"
      },
      "source": [
        "#### Feature classification"
      ]
    },
    {
      "cell_type": "code",
      "metadata": {
        "id": "Va6m8RN_E3Rt"
      },
      "source": [
        "distance_threshold = 14000 # TODO find it procedurally"
      ],
      "execution_count": null,
      "outputs": []
    },
    {
      "cell_type": "markdown",
      "metadata": {
        "id": "wvYz3NY1E3Rt"
      },
      "source": [
        "#### Evaluate performance"
      ]
    },
    {
      "cell_type": "code",
      "metadata": {
        "id": "xGwsPYm-E3Rt"
      },
      "source": [
        "accuracy(extract_features, compare_features, distance_threshold, n = 400)"
      ],
      "execution_count": null,
      "outputs": []
    },
    {
      "cell_type": "code",
      "metadata": {
        "id": "5FN2GLT8E3Rt"
      },
      "source": [
        "def column(M, c):\r\n",
        "  return [row[c] for row in M]\r\n",
        "test_size = 1\r\n",
        "test_images = list(itertools.islice(single_altered_images(), test_size))\r\n",
        "predictions = product_classifications(column(test_images, 0), extract_features, compare_features)\r\n",
        "cm = confusion_matrix(column(test_images, 1), column(predictions, 0))\r\n",
        "print(\"Accuracy: \", np.trace(cm) / test_size)\r\n",
        "plot_grid(column(test_images[:20], 0), 5, labels=column(predictions[:20], 2))\r\n",
        "del test_images, predictions, cm"
      ],
      "execution_count": null,
      "outputs": []
    },
    {
      "cell_type": "markdown",
      "metadata": {
        "id": "qNhvyoBjpz3t"
      },
      "source": [
        "## Testing model on stores"
      ]
    },
    {
      "cell_type": "code",
      "metadata": {
        "id": "vtjIpcNK7ap1"
      },
      "source": [
        "store = read_store_data('store2')"
      ],
      "execution_count": null,
      "outputs": []
    },
    {
      "cell_type": "code",
      "metadata": {
        "id": "6aQMlMih6RZU"
      },
      "source": [
        "img, items = store[1]\r\n",
        "\r\n",
        "image_portion = img\r\n",
        "resized_portion = resize_image(image_portion, size)\r\n",
        "show_image(img)\r\n",
        "res = product_classification(resized_portion, extract_features, compute_feature_distance = rmse)\r\n",
        "print(res)"
      ],
      "execution_count": null,
      "outputs": []
    },
    {
      "cell_type": "code",
      "metadata": {
        "id": "fpsgqbT7Gd-W"
      },
      "source": [
        "def sliding_window(img, size, stride=(0.5, 0.5)):\r\n",
        "  scale_values=[0.5, 0.3]\r\n",
        "  height, width, _ = img.shape\r\n",
        "  aspect_ratio = size[1] / size[0]\r\n",
        "  for scale in scale_values:\r\n",
        "    scaled_width = int(width * scale)\r\n",
        "    scaled_height = int(height * scale)\r\n",
        "    scaled_img = resize_image(img, (scaled_width, scaled_height))\r\n",
        "    y_min = 0\r\n",
        "    while y_min + size[1] < scaled_height:\r\n",
        "      x_min = 0\r\n",
        "      while x_min + size[0] < scaled_width:\r\n",
        "        yield scaled_img[y_min : y_min + size[0] - 1, x_min : x_min + size[1] - 1]\r\n",
        "        x_min += int(size[0] * stride[0])\r\n",
        "      y_min += int(size[1] * stride[1])\r\n",
        "\r\n",
        "res = list(sliding_window(img, size))\r\n",
        "\r\n",
        "plot_grid(res, 9)"
      ],
      "execution_count": null,
      "outputs": []
    }
  ]
}