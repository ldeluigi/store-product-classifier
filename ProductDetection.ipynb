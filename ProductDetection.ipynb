{
  "nbformat": 4,
  "nbformat_minor": 0,
  "metadata": {
    "colab": {
      "name": "ProductDetection.ipynb",
      "private_outputs": true,
      "provenance": [],
      "collapsed_sections": [],
      "toc_visible": true,
      "include_colab_link": true
    },
    "kernelspec": {
      "name": "python3",
      "display_name": "Python 3"
    }
  },
  "cells": [
    {
      "cell_type": "markdown",
      "metadata": {
        "id": "view-in-github",
        "colab_type": "text"
      },
      "source": [
        "<a href=\"https://colab.research.google.com/github/ldeluigi/supermarket-2077-product-vision/blob/master/ProductDetection.ipynb\" target=\"_parent\"><img src=\"https://colab.research.google.com/assets/colab-badge.svg\" alt=\"Open In Colab\"/></a>"
      ]
    },
    {
      "cell_type": "markdown",
      "metadata": {
        "id": "pOZ-LOYf_Zdd"
      },
      "source": [
        "# Product Detection"
      ]
    },
    {
      "cell_type": "markdown",
      "metadata": {
        "id": "zdlCQFyABGy3"
      },
      "source": [
        "## Download datasets"
      ]
    },
    {
      "cell_type": "code",
      "metadata": {
        "id": "RQmWhRKUE5oy"
      },
      "source": [
        "!rm -rf sample_data\r\n",
        "!gdown --id 1fDr4g4wbnSRkuCYyS3wpuJS7Ax22bVB_ -O all.zip\r\n",
        "!unzip -oq all.zip\r\n",
        "\r\n",
        "%matplotlib inline"
      ],
      "execution_count": null,
      "outputs": []
    },
    {
      "cell_type": "markdown",
      "metadata": {
        "id": "7fG1BAIjUP_7"
      },
      "source": [
        "## Imports"
      ]
    },
    {
      "cell_type": "code",
      "metadata": {
        "id": "cLso_ssrUTuB"
      },
      "source": [
        "import scipy.io\r\n",
        "import os\r\n",
        "from pathlib import Path\r\n",
        "import re\r\n",
        "import cv2\r\n",
        "import matplotlib.pyplot as plt\r\n",
        "import numpy as np\r\n",
        "import math\r\n",
        "import itertools\r\n",
        "import shutil\r\n",
        "from tqdm.notebook import tqdm\r\n",
        "from keras.preprocessing.image import ImageDataGenerator\r\n",
        "import tensorflow as tf"
      ],
      "execution_count": null,
      "outputs": []
    },
    {
      "cell_type": "markdown",
      "metadata": {
        "id": "7rqJKSISCh8l"
      },
      "source": [
        "## Read store data"
      ]
    },
    {
      "cell_type": "code",
      "metadata": {
        "id": "HaQk4SPNCqHe"
      },
      "source": [
        "def read_store_data(storename):\r\n",
        "  dirname_anno = os.path.join(storename, 'annotation')\r\n",
        "  dirname_images = os.path.join(storename, 'images')\r\n",
        "  directory_anno = os.fsencode(dirname_anno)\r\n",
        "  directory_images = os.fsencode(dirname_images)\r\n",
        "\r\n",
        "  result = []\r\n",
        "\r\n",
        "  for file in os.listdir(directory_anno):\r\n",
        "    filename = os.fsdecode(file)\r\n",
        "    if filename.endswith(\".mat\"): \r\n",
        "      mat = scipy.io.loadmat(os.path.join(dirname_anno, filename))\r\n",
        "      number = re.search(r'^anno.(\\d+).mat$', filename).group(1)\r\n",
        "      img = cv2.imread(os.path.join(dirname_images, number + '.jpg'))\r\n",
        "\r\n",
        "      img_rgb = cv2.cvtColor(img, cv2.COLOR_BGR2RGB)\r\n",
        "      img_annotation = mat['annotation'][0, 0]\r\n",
        "      bboxes = map(lambda x: x[0], img_annotation[0][0])\r\n",
        "      labels = map(lambda x: str(x[0][0][0]), img_annotation[1][0])\r\n",
        "      class_indexes = img_annotation[2][0]\r\n",
        "      result.append((img_rgb, list(zip(bboxes, labels, class_indexes))))\r\n",
        "  return np.rec.array(result, dtype=[('image', 'O'), ('items', 'O')])"
      ],
      "execution_count": null,
      "outputs": []
    },
    {
      "cell_type": "markdown",
      "metadata": {
        "id": "8c-J_rx58YtO"
      },
      "source": [
        "## Read training data"
      ]
    },
    {
      "cell_type": "code",
      "metadata": {
        "id": "vDIdYTwp8ep0"
      },
      "source": [
        "dirname = 'Training'\r\n",
        "\r\n",
        "def read_classes():\r\n",
        "  mat = scipy.io.loadmat(os.path.join(dirname, 'TrainingClassesIndex.mat'))\r\n",
        "  classes = list(map(lambda x: x[0], mat['classes'][0]))\r\n",
        "  return dict(enumerate(classes, start=1))\r\n",
        "\r\n",
        "def read_training_data(classes):\r\n",
        "  result = []\r\n",
        "  for class_index, class_name in classes.items():\r\n",
        "    dirname_images = os.path.join(dirname, class_name)\r\n",
        "    directory_images = os.fsencode(dirname_images)\r\n",
        "    for file in os.listdir(directory_images):\r\n",
        "      img = cv2.imread(os.path.join(dirname_images, os.fsdecode(file)))\r\n",
        "      img_rgb =  cv2.cvtColor(img, cv2.COLOR_BGR2RGB)\r\n",
        "      result.append((img_rgb, class_index))\r\n",
        "  return np.rec.array(result, dtype=[('image', 'O'), ('class_index', 'i4')])"
      ],
      "execution_count": null,
      "outputs": []
    },
    {
      "cell_type": "markdown",
      "metadata": {
        "id": "0_v6BmKqAgDB"
      },
      "source": [
        "## Prepare products dataset"
      ]
    },
    {
      "cell_type": "code",
      "metadata": {
        "id": "UDqS6CthBF6Z"
      },
      "source": [
        "classes = read_classes()\r\n",
        "products = read_training_data(classes)\r\n",
        "store = read_store_data('store1')\r\n",
        "\r\n",
        "def class_name(class_index):\r\n",
        "  return classes[class_index] if class_index >= 0 else None"
      ],
      "execution_count": null,
      "outputs": []
    },
    {
      "cell_type": "code",
      "metadata": {
        "id": "vGYtYOfxJv7a"
      },
      "source": [
        "def summary_of_dataset(dataset):\r\n",
        "  print('Information on class occurencies:')\r\n",
        "  c = np.vectorize(class_name)(dataset['class_index'])\r\n",
        "  print(c)\r\n",
        "  # TODO\r\n",
        "  print('\\n\\nInformation on image byte occupation:')\r\n",
        "  info = np.vectorize(lambda x: np.prod(x.shape))(dataset['image'])\r\n",
        "  print(info)\r\n",
        "  # TODO\r\n",
        "\r\n",
        "summary_of_dataset(products)"
      ],
      "execution_count": null,
      "outputs": []
    },
    {
      "cell_type": "markdown",
      "metadata": {
        "id": "jcB1_JdoNOBu"
      },
      "source": [
        "## Data visualization"
      ]
    },
    {
      "cell_type": "code",
      "metadata": {
        "id": "YMi44ntXRH5U"
      },
      "source": [
        "def show_image(img):\r\n",
        "  plt.axis('off')\r\n",
        "  plt.imshow(img)\r\n",
        "\r\n",
        "def show_grayscale_image(img):\r\n",
        "  show_image(cv2.merge([img, img, img]))"
      ],
      "execution_count": null,
      "outputs": []
    },
    {
      "cell_type": "code",
      "metadata": {
        "id": "-x36OMLMbXC4"
      },
      "source": [
        "def plot_grid(images, columns, show_axis=False):\r\n",
        "  height = 1 + math.ceil(len(images) / columns) * 2\r\n",
        "  width = columns * 2\r\n",
        "  dpi = max(images[0].shape[0], images[0].shape[1]) // 4\r\n",
        "  fig = plt.figure(figsize=(width, height), dpi=dpi)\r\n",
        "  fig.subplots_adjust(hspace=0.4)\r\n",
        "  for index, img in enumerate(images, start=1):\r\n",
        "    sp = fig.add_subplot(math.ceil(len(images) / columns), columns, index)\r\n",
        "    if not show_axis:\r\n",
        "      plt.axis('off')\r\n",
        "    plt.imshow(img)\r\n",
        "    sp.set_title(index, fontsize=10)\r\n",
        "\r\n",
        "def dataset_plot_grid(indexes, columns, dataset, draw_item):\r\n",
        "  fig = plt.figure(figsize=(12, 6), dpi=120)\r\n",
        "  # fig.subplots_adjust(hspace=0.2)\r\n",
        "  for index, i_img in enumerate(indexes, start=1):\r\n",
        "    sp = fig.add_subplot(math.ceil(len(indexes) / columns), columns, index)\r\n",
        "    row = dataset[i_img]\r\n",
        "    draw_item(row, sp)"
      ],
      "execution_count": null,
      "outputs": []
    },
    {
      "cell_type": "code",
      "metadata": {
        "id": "9bjFqgExNdla"
      },
      "source": [
        "def show_products_with_class(indexes, columns, dataset):\r\n",
        "  def show_single_product_with_class(row, sp):\r\n",
        "    plt.axis('off')\r\n",
        "    plt.imshow(row.image)\r\n",
        "    sp.set_title(class_name(row.class_index), fontsize=10)\r\n",
        "  dataset_plot_grid(indexes, columns, dataset, show_single_product_with_class)\r\n",
        "\r\n",
        "show_products_with_class(np.random.randint(0, len(products), 6), 2, products)"
      ],
      "execution_count": null,
      "outputs": []
    },
    {
      "cell_type": "code",
      "metadata": {
        "id": "Y-OrlAhPYOH2"
      },
      "source": [
        "def show_shelf_with_bbox_and_classes(indexes, columns, dataset):\r\n",
        "  def show_single_shelf(row, sp):\r\n",
        "    color = (255, 255, 0)\r\n",
        "    img = row.image.copy()\r\n",
        "    for item in row.items:\r\n",
        "      bbox, label, class_index  = item\r\n",
        "      [xmin, xmax, ymin, ymax] = bbox\r\n",
        "      height, width, _ = img.shape\r\n",
        "      xmin = int(xmin * width)\r\n",
        "      xmax = int(xmax * width)\r\n",
        "      ymin = int(ymin * height)\r\n",
        "      ymax = int(ymax * height)\r\n",
        "      thickness = round(max(width, height) * 0.01)\r\n",
        "      cv2.rectangle(img, (xmin, ymin), (xmax, ymax), color, thickness)\r\n",
        "      cv2.putText(img,\r\n",
        "                  class_name(class_index),\r\n",
        "                  (round(xmin + thickness * 1.5), round(ymin + thickness * 3)),\r\n",
        "                  cv2.FONT_HERSHEY_SIMPLEX,\r\n",
        "                  2.5,\r\n",
        "                  color,\r\n",
        "                  thickness=round(thickness/2))\r\n",
        "    plt.axis('off')\r\n",
        "    plt.imshow(img)\r\n",
        "  dataset_plot_grid(indexes, columns, dataset, show_single_shelf)\r\n",
        "\r\n",
        "show_shelf_with_bbox_and_classes(np.random.randint(0, len(store), 4), 2, store)"
      ],
      "execution_count": null,
      "outputs": []
    },
    {
      "cell_type": "markdown",
      "metadata": {
        "id": "Y7VOlJPTe9Vy"
      },
      "source": [
        "## Data manipulation"
      ]
    },
    {
      "cell_type": "markdown",
      "metadata": {
        "id": "WQ5oRPUvfx0U"
      },
      "source": [
        "### Background removal"
      ]
    },
    {
      "cell_type": "code",
      "metadata": {
        "id": "5Dzhh2G0fs-e"
      },
      "source": [
        "# code taken from https://www.kaggle.com/vadbeg/opencv-background-removal and modified\r\n",
        "\r\n",
        "def remove_background(img, threshold):\r\n",
        "    gray = cv2.cvtColor(img, cv2.COLOR_RGB2GRAY)\r\n",
        "    _, threshed = cv2.threshold(gray, threshold, 255, cv2.THRESH_BINARY_INV)\r\n",
        "\r\n",
        "    kernel_size = round(max(img.shape[0], img.shape[1]) * 0.02)\r\n",
        "    kernel = cv2.getStructuringElement(cv2.MORPH_ELLIPSE, (kernel_size, kernel_size))\r\n",
        "    morphed = cv2.morphologyEx(threshed, cv2.MORPH_CLOSE, kernel)\r\n",
        "\r\n",
        "    cnts = cv2.findContours(morphed, \r\n",
        "                            cv2.RETR_EXTERNAL,\r\n",
        "                            cv2.CHAIN_APPROX_SIMPLE)[0]\r\n",
        "\r\n",
        "    cnts = sorted(cnts, key=cv2.contourArea)\r\n",
        "\r\n",
        "    mask = cv2.drawContours(threshed, [cnts[-1]], 0, [255], cv2.FILLED)\r\n",
        "    masked_data = cv2.bitwise_and(img, img, mask=mask)\r\n",
        "\r\n",
        "    x, y, w, h = cv2.boundingRect(cnts[-1])\r\n",
        "    dst = masked_data[y: y + h, x: x + w]\r\n",
        "\r\n",
        "    alpha = mask[y: y + h, x: x + w]\r\n",
        "    r, g, b = cv2.split(dst)\r\n",
        "\r\n",
        "    rgba = [r, g, b, alpha]\r\n",
        "    dst = cv2.merge(rgba, 4)\r\n",
        "    return dst\r\n",
        "\r\n",
        "n = np.random.randint(products.shape[0])\r\n",
        "print(f'Index: {n}')\r\n",
        "print(f'Class: {class_name(products[n].class_index)}')\r\n",
        "plot_grid([products[n].image, remove_background(products[n].image, 250)], 2, show_axis=True)"
      ],
      "execution_count": null,
      "outputs": []
    },
    {
      "cell_type": "markdown",
      "metadata": {
        "id": "p9f3xs_2TcYl"
      },
      "source": [
        "### Image resize"
      ]
    },
    {
      "cell_type": "code",
      "metadata": {
        "id": "Q_c8Rek4T49O"
      },
      "source": [
        "def resize_image(img, size, color=[0,0,0,0]):\r\n",
        "  target_w, target_h = size\r\n",
        "  original_h, original_w, _ = img.shape\r\n",
        "  target_ar = target_w / target_h\r\n",
        "  original_ar = original_w / original_h\r\n",
        "\r\n",
        "  scale_factor = target_h / original_h if target_ar > original_ar else target_w / original_w\r\n",
        "  scaled_w = round(original_w * scale_factor)\r\n",
        "  scaled_h = round(original_h * scale_factor)\r\n",
        "  scaled_size = (scaled_w, scaled_h)\r\n",
        "  resized = cv2.resize(img, scaled_size)\r\n",
        "\r\n",
        "  delta_h = target_h - scaled_h\r\n",
        "  delta_w = target_w - scaled_w\r\n",
        "  top    = delta_h // 2\r\n",
        "  left   = delta_w // 2\r\n",
        "  bottom = delta_h - top\r\n",
        "  right  = delta_w - left\r\n",
        "\r\n",
        "  return cv2.copyMakeBorder(resized, top, bottom, left, right, cv2.BORDER_CONSTANT, value=color)\r\n",
        "\r\n",
        "n = np.random.randint(products.shape[0])\r\n",
        "image = products[n].image\r\n",
        "image = remove_background(image, 250)\r\n",
        "plot_grid([image, resize_image(image, (400, 400))], 2, show_axis=True)"
      ],
      "execution_count": null,
      "outputs": []
    },
    {
      "cell_type": "markdown",
      "metadata": {
        "id": "HLKEGiR1ozQi"
      },
      "source": [
        "## Dataset preparation\r\n",
        "\r\n"
      ]
    },
    {
      "cell_type": "code",
      "metadata": {
        "id": "LUuyRSE0t4GQ"
      },
      "source": [
        "size = (256, 256)\r\n",
        "\r\n",
        "def clean_image(img):\r\n",
        "  threshold = 250\r\n",
        "  img = remove_background(img, threshold)\r\n",
        "  return resize_image(img, size)"
      ],
      "execution_count": null,
      "outputs": []
    },
    {
      "cell_type": "markdown",
      "metadata": {
        "id": "AXGPRPzVuJKX"
      },
      "source": [
        "### Dump clean dataset on file\r\n",
        "\r\n",
        "To save memory."
      ]
    },
    {
      "cell_type": "code",
      "metadata": {
        "id": "lNE4hWdsoylg"
      },
      "source": [
        "train_data_directory = 'Temp'\r\n",
        "shutil.rmtree(train_data_directory)\r\n",
        "for index, (image, class_index) in tqdm(enumerate(products), total=products.shape[0]):\r\n",
        "  class_label = class_name(class_index).replace('/', '_')\r\n",
        "  class_directory = f'{class_index:03}.{class_label}'\r\n",
        "  output_dir = os.path.join(train_data_directory, class_directory)\r\n",
        "  Path(output_dir).mkdir(parents=True, exist_ok=True)\r\n",
        "  out = cv2.cvtColor(clean_image(image), cv2.COLOR_RGBA2BGRA)\r\n",
        "  cv2.imwrite(os.path.join(output_dir, f'{class_directory}.{index}.png'), out)\r\n"
      ],
      "execution_count": null,
      "outputs": []
    },
    {
      "cell_type": "markdown",
      "metadata": {
        "id": "ANnhDb-si674"
      },
      "source": [
        "### Data Augmentation"
      ]
    },
    {
      "cell_type": "code",
      "metadata": {
        "id": "G7ysgkyopSmx"
      },
      "source": [
        "def image_3D_rotation(img, theta = 0, phi = 0, gamma = 0, dx = 0, dy = 0, dz = 0):\r\n",
        "  \"\"\"\r\n",
        "  Parameters:\r\n",
        "      img       : the image data as numpy array\r\n",
        "      theta     : rotation around the x axis\r\n",
        "      phi       : rotation around the y axis\r\n",
        "      gamma     : rotation around the z axis (basically a 2D rotation)\r\n",
        "      dx        : translation along the x axis\r\n",
        "      dy        : translation along the y axis\r\n",
        "      dz        : translation along the z axis (distance to the image)\r\n",
        "  Output:\r\n",
        "      image     : the rotated image\r\n",
        "  \r\n",
        "  Reference:\r\n",
        "      1.        : http://stackoverflow.com/questions/17087446/how-to-calculate-perspective-transform-for-opencv-from-rotation-angles\r\n",
        "      2.        : http://jepsonsblog.blogspot.tw/2012/11/rotation-in-3d-using-opencvs.html\r\n",
        "      3.        : Code taken from https://github.com/eborboihuc/rotate_3d/blob/master/image_transformer.py\r\n",
        "  \"\"\"\r\n",
        "  def deg_to_rad(deg):\r\n",
        "    return deg * math.pi / 180.0\r\n",
        "  def get_M(theta, phi, gamma, dx, dy, dz, size, focal):\r\n",
        "    w = size[0]\r\n",
        "    h = size[1]\r\n",
        "    f = focal\r\n",
        "    # Projection 2D -> 3D matrix\r\n",
        "    A1 = np.array([ [1, 0, -w/2],\r\n",
        "                    [0, 1, -h/2],\r\n",
        "                    [0, 0, 1],\r\n",
        "                    [0, 0, 1]])\r\n",
        "    # Rotation matrices around the X, Y, and Z axis\r\n",
        "    RX = np.array([ [1, 0, 0, 0],\r\n",
        "                    [0, np.cos(theta), -np.sin(theta), 0],\r\n",
        "                    [0, np.sin(theta), np.cos(theta), 0],\r\n",
        "                    [0, 0, 0, 1]])\r\n",
        "    RY = np.array([ [np.cos(phi), 0, -np.sin(phi), 0],\r\n",
        "                    [0, 1, 0, 0],\r\n",
        "                    [np.sin(phi), 0, np.cos(phi), 0],\r\n",
        "                    [0, 0, 0, 1]])\r\n",
        "    RZ = np.array([ [np.cos(gamma), -np.sin(gamma), 0, 0],\r\n",
        "                    [np.sin(gamma), np.cos(gamma), 0, 0],\r\n",
        "                    [0, 0, 1, 0],\r\n",
        "                    [0, 0, 0, 1]])\r\n",
        "    # Composed rotation matrix with (RX, RY, RZ)\r\n",
        "    R = np.dot(np.dot(RX, RY), RZ)\r\n",
        "    # Translation matrix\r\n",
        "    T = np.array([  [1, 0, 0, dx],\r\n",
        "                    [0, 1, 0, dy],\r\n",
        "                    [0, 0, 1, dz],\r\n",
        "                    [0, 0, 0, 1]])\r\n",
        "    # Projection 3D -> 2D matrix\r\n",
        "    A2 = np.array([ [f, 0, w/2, 0],\r\n",
        "                    [0, f, h/2, 0],\r\n",
        "                    [0, 0, 1, 0]])\r\n",
        "    # Final transformation matrix\r\n",
        "    return np.dot(A2, np.dot(T, np.dot(R, A1)))\r\n",
        "  height = img.shape[0]\r\n",
        "  width = img.shape[1]\r\n",
        "  num_channels = img.shape[2]\r\n",
        "  rtheta = deg_to_rad(theta)\r\n",
        "  rphi = deg_to_rad(phi)\r\n",
        "  rgamma = deg_to_rad(gamma)\r\n",
        "  d = np.sqrt(height**2 + width**2)\r\n",
        "  focal = d / (2 * np.sin(rgamma) if np.sin(rgamma) != 0 else 1)\r\n",
        "  dz = focal\r\n",
        "  mat = get_M(rtheta, rphi, rgamma, dx, dy, dz, (width, height), focal)\r\n",
        "  return cv2.warpPerspective(img.copy(), mat, (width, height))"
      ],
      "execution_count": null,
      "outputs": []
    },
    {
      "cell_type": "code",
      "metadata": {
        "id": "lNoE6DPOj2mA"
      },
      "source": [
        "def spatial_rotation(img):\r\n",
        "  return image_3D_rotation(img, \r\n",
        "                           theta = np.random.randint(-20, 21), \r\n",
        "                           phi = np.random.randint(-60, 61), \r\n",
        "                           gamma = np.random.randint(-10, 11))\r\n",
        "\r\n",
        "datagen = ImageDataGenerator(\r\n",
        "    brightness_range=[0.5, 1.2],\r\n",
        "    width_shift_range=size[0]//8,\r\n",
        "    height_shift_range=size[1]//8,\r\n",
        "    zoom_range=0.1,\r\n",
        "    fill_mode='constant',\r\n",
        "    cval=0,\r\n",
        "    data_format='channels_last',\r\n",
        "    preprocessing_function=spatial_rotation\r\n",
        ")"
      ],
      "execution_count": null,
      "outputs": []
    },
    {
      "cell_type": "code",
      "metadata": {
        "id": "aEVrYzc7A1Ni"
      },
      "source": [
        "generator = datagen.flow_from_directory(\r\n",
        "  directory = train_data_directory,\r\n",
        "  target_size = size,\r\n",
        "  color_mode = 'rgba',\r\n",
        "  class_mode = 'categorical',\r\n",
        "  batch_size = 32,\r\n",
        "  shuffle = True\r\n",
        ")\r\n",
        "plot_grid([next(generator)[0].astype('uint8')[0] for _ in range(40)], 4)\r\n",
        "del generator"
      ],
      "execution_count": null,
      "outputs": []
    }
  ]
}