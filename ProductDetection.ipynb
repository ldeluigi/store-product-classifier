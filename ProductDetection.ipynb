{
  "nbformat": 4,
  "nbformat_minor": 0,
  "metadata": {
    "colab": {
      "name": "ProductDetection.ipynb",
      "private_outputs": true,
      "provenance": [],
      "collapsed_sections": [
        "7fG1BAIjUP_7"
      ],
      "toc_visible": true,
      "include_colab_link": true
    },
    "kernelspec": {
      "name": "python3",
      "display_name": "Python 3"
    }
  },
  "cells": [
    {
      "cell_type": "markdown",
      "metadata": {
        "id": "view-in-github",
        "colab_type": "text"
      },
      "source": [
        "<a href=\"https://colab.research.google.com/github/ldeluigi/supermarket-2077-product-vision/blob/master/ProductDetection.ipynb\" target=\"_parent\"><img src=\"https://colab.research.google.com/assets/colab-badge.svg\" alt=\"Open In Colab\"/></a>"
      ]
    },
    {
      "cell_type": "markdown",
      "metadata": {
        "id": "pOZ-LOYf_Zdd"
      },
      "source": [
        "## Product Detection"
      ]
    },
    {
      "cell_type": "markdown",
      "metadata": {
        "id": "zdlCQFyABGy3"
      },
      "source": [
        "### Download datasets"
      ]
    },
    {
      "cell_type": "code",
      "metadata": {
        "id": "RQmWhRKUE5oy"
      },
      "source": [
        "!rm -rf sample_data\r\n",
        "!gdown --id 1fDr4g4wbnSRkuCYyS3wpuJS7Ax22bVB_ -O all.zip\r\n",
        "!unzip -zoq all.zip\r\n",
        "\r\n",
        "%matplotlib inline"
      ],
      "execution_count": null,
      "outputs": []
    },
    {
      "cell_type": "markdown",
      "metadata": {
        "id": "7fG1BAIjUP_7"
      },
      "source": [
        "### Imports"
      ]
    },
    {
      "cell_type": "code",
      "metadata": {
        "id": "cLso_ssrUTuB"
      },
      "source": [
        "import scipy.io\r\n",
        "import os\r\n",
        "import re\r\n",
        "import cv2\r\n",
        "import matplotlib.pyplot as plt"
      ],
      "execution_count": null,
      "outputs": []
    },
    {
      "cell_type": "markdown",
      "metadata": {
        "id": "7rqJKSISCh8l"
      },
      "source": [
        "### Read store data"
      ]
    },
    {
      "cell_type": "code",
      "metadata": {
        "id": "HaQk4SPNCqHe"
      },
      "source": [
        "def read_store_data(storename):\r\n",
        "  dirname = storename\r\n",
        "  dirname_anno = os.path.join(dirname, 'annotation')\r\n",
        "  dirname_images = os.path.join(dirname, 'images')\r\n",
        "  directory_anno = os.fsencode(dirname_anno)\r\n",
        "  directory_images = os.fsencode(dirname_images)\r\n",
        "\r\n",
        "  result = []\r\n",
        "\r\n",
        "  for file in os.listdir(directory_anno):\r\n",
        "    filename = os.fsdecode(file)\r\n",
        "    if filename.endswith(\".mat\"): \r\n",
        "      mat = scipy.io.loadmat(os.path.join(dirname_anno, filename))\r\n",
        "      number = re.search(r'^anno.(\\d+).mat$', filename).group(1)\r\n",
        "      img = cv2.imread(os.path.join(dirname_images, number + '.jpg'))\r\n",
        "\r\n",
        "      img_rgb = cv2.cvtColor(img, cv2.COLOR_BGR2RGB)\r\n",
        "      img_annotation = mat['annotation'][0, 0]\r\n",
        "      contours = list(map(lambda x: x[0], img_annotation[0][0]))\r\n",
        "      labels = list(map(lambda x: str(x[0][0][0]), img_annotation[1][0]))\r\n",
        "      categories = list(map(lambda x: str(x), img_annotation[2][0]))\r\n",
        "      \r\n",
        "      # Draw rectangles:\r\n",
        "      # for cntr in contours:\r\n",
        "      #   [xmin, xmax, ymin, ymax] = cntr\r\n",
        "      #   height, width, _ = img_rgb.shape\r\n",
        "      #   xmin = int(xmin * width)\r\n",
        "      #   xmax = int(xmax * width)\r\n",
        "      #   ymin = int(ymin * height)\r\n",
        "      #   ymax = int(ymax * height)\r\n",
        "      #   cv2.rectangle(img_rgb, (xmin, ymin), (xmax, ymax), (0, 0, 255), 20)\r\n",
        "      # plt.axis('off')\r\n",
        "      # plt.imshow(img_rgb)\r\n",
        "      result.append((img_rgb, categories, labels))\r\n",
        "      continue\r\n",
        "    else:\r\n",
        "      continue\r\n",
        "  return result\r\n",
        "\r\n",
        "read_store_data('store1')"
      ],
      "execution_count": null,
      "outputs": []
    }
  ]
}