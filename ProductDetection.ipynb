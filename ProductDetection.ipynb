{
  "nbformat": 4,
  "nbformat_minor": 0,
  "metadata": {
    "colab": {
      "name": "ProductDetection.ipynb",
      "private_outputs": true,
      "provenance": [],
      "collapsed_sections": [],
      "toc_visible": true,
      "include_colab_link": true
    },
    "kernelspec": {
      "name": "python3",
      "display_name": "Python 3"
    }
  },
  "cells": [
    {
      "cell_type": "markdown",
      "metadata": {
        "id": "view-in-github",
        "colab_type": "text"
      },
      "source": [
        "<a href=\"https://colab.research.google.com/github/ldeluigi/supermarket-2077-product-vision/blob/master/ProductDetection.ipynb\" target=\"_parent\"><img src=\"https://colab.research.google.com/assets/colab-badge.svg\" alt=\"Open In Colab\"/></a>"
      ]
    },
    {
      "cell_type": "markdown",
      "metadata": {
        "id": "pOZ-LOYf_Zdd"
      },
      "source": [
        "## Product Detection"
      ]
    },
    {
      "cell_type": "markdown",
      "metadata": {
        "id": "zdlCQFyABGy3"
      },
      "source": [
        "## Download datasets"
      ]
    },
    {
      "cell_type": "code",
      "metadata": {
        "id": "RQmWhRKUE5oy"
      },
      "source": [
        "!rm -rf sample_data\r\n",
        "!gdown --id 1fDr4g4wbnSRkuCYyS3wpuJS7Ax22bVB_ -O all.zip\r\n",
        "!unzip -oq all.zip\r\n",
        "\r\n",
        "%matplotlib inline"
      ],
      "execution_count": null,
      "outputs": []
    },
    {
      "cell_type": "markdown",
      "metadata": {
        "id": "7fG1BAIjUP_7"
      },
      "source": [
        "## Imports"
      ]
    },
    {
      "cell_type": "code",
      "metadata": {
        "id": "cLso_ssrUTuB"
      },
      "source": [
        "import scipy.io\r\n",
        "import os\r\n",
        "import re\r\n",
        "import cv2\r\n",
        "import matplotlib.pyplot as plt\r\n",
        "import numpy as np\r\n",
        "import pandas as pd\r\n",
        "import math"
      ],
      "execution_count": null,
      "outputs": []
    },
    {
      "cell_type": "markdown",
      "metadata": {
        "id": "7rqJKSISCh8l"
      },
      "source": [
        "## Read store data"
      ]
    },
    {
      "cell_type": "code",
      "metadata": {
        "id": "HaQk4SPNCqHe"
      },
      "source": [
        "def read_store_data(storename):\r\n",
        "  dirname = storename\r\n",
        "  dirname_anno = os.path.join(dirname, 'annotation')\r\n",
        "  dirname_images = os.path.join(dirname, 'images')\r\n",
        "  directory_anno = os.fsencode(dirname_anno)\r\n",
        "  directory_images = os.fsencode(dirname_images)\r\n",
        "\r\n",
        "  result = []\r\n",
        "\r\n",
        "  for file in os.listdir(directory_anno):\r\n",
        "    filename = os.fsdecode(file)\r\n",
        "    if filename.endswith(\".mat\"): \r\n",
        "      mat = scipy.io.loadmat(os.path.join(dirname_anno, filename))\r\n",
        "      number = re.search(r'^anno.(\\d+).mat$', filename).group(1)\r\n",
        "      img = cv2.imread(os.path.join(dirname_images, number + '.jpg'))\r\n",
        "\r\n",
        "      img_rgb = cv2.cvtColor(img, cv2.COLOR_BGR2RGB)\r\n",
        "      img_annotation = mat['annotation'][0, 0]\r\n",
        "      bbox = list(map(lambda x: x[0], img_annotation[0][0]))\r\n",
        "      labels = list(map(lambda x: str(x[0][0][0]), img_annotation[1][0]))\r\n",
        "      class_indexes = list(img_annotation[2][0])\r\n",
        "      \r\n",
        "      result.append((img_rgb, bbox, class_indexes, labels))\r\n",
        "  return result, ['image', 'bboxes', 'class_indexes', 'labels']"
      ],
      "execution_count": null,
      "outputs": []
    },
    {
      "cell_type": "markdown",
      "metadata": {
        "id": "8c-J_rx58YtO"
      },
      "source": [
        "## Read training data"
      ]
    },
    {
      "cell_type": "code",
      "metadata": {
        "id": "vDIdYTwp8ep0"
      },
      "source": [
        "dirname = 'Training'\r\n",
        "\r\n",
        "def read_classes():\r\n",
        "  mat = scipy.io.loadmat(os.path.join(dirname, 'TrainingClassesIndex.mat'))\r\n",
        "  classes = list(map(lambda x: x[0], mat['classes'][0]))\r\n",
        "  return dict(enumerate(classes, start=1))\r\n",
        "\r\n",
        "def read_training_data(classes):\r\n",
        "  result = []\r\n",
        "  for class_index, class_name in classes.items():\r\n",
        "    dirname_images = os.path.join(dirname, class_name)\r\n",
        "    directory_images = os.fsencode(dirname_images)\r\n",
        "    for file in os.listdir(directory_images):\r\n",
        "      img = cv2.imread(os.path.join(dirname_images, os.fsdecode(file)))\r\n",
        "      img_rgb =  cv2.cvtColor(img, cv2.COLOR_BGR2RGB)\r\n",
        "      result.append((img_rgb, class_index))\r\n",
        "  return result, ['image', 'class_index']"
      ],
      "execution_count": null,
      "outputs": []
    },
    {
      "cell_type": "markdown",
      "metadata": {
        "id": "0_v6BmKqAgDB"
      },
      "source": [
        "## Prepare products dataset"
      ]
    },
    {
      "cell_type": "code",
      "metadata": {
        "id": "UDqS6CthBF6Z"
      },
      "source": [
        "def create_dataset(data, columns):\r\n",
        "  return pd.DataFrame(data, columns=columns)\r\n",
        "\r\n",
        "classes = read_classes()\r\n",
        "products = create_dataset(*read_training_data(classes))\r\n",
        "store = create_dataset(*read_store_data('store1'))\r\n",
        "\r\n",
        "def class_name(class_index):\r\n",
        "  return classes[class_index] if class_index >= 0 else None\r\n",
        "\r\n",
        "products['class'] = products.apply(lambda x: class_name(x['class_index']), axis=1)"
      ],
      "execution_count": null,
      "outputs": []
    },
    {
      "cell_type": "code",
      "metadata": {
        "id": "vGYtYOfxJv7a"
      },
      "source": [
        "def summary_of_dataset(dataset):\r\n",
        "  print('Information on classes:')\r\n",
        "  info = dataset['class'].value_counts()\r\n",
        "  print(info)\r\n",
        "  print(info.describe())\r\n",
        "\r\n",
        "summary_of_dataset(products)"
      ],
      "execution_count": null,
      "outputs": []
    },
    {
      "cell_type": "markdown",
      "metadata": {
        "id": "jcB1_JdoNOBu"
      },
      "source": [
        "## Data visualization"
      ]
    },
    {
      "cell_type": "code",
      "metadata": {
        "id": "-x36OMLMbXC4"
      },
      "source": [
        "def plot_grid(indexes, columns, dataset, draw_item):\r\n",
        "  fig = plt.figure(figsize=(12, 6), dpi=120)\r\n",
        "  # fig.subplots_adjust(hspace=0.2)\r\n",
        "  for index, i_img in enumerate(indexes, start=1):\r\n",
        "    sp = fig.add_subplot(math.ceil(len(indexes) / columns), columns, index)\r\n",
        "    row = dataset.iloc[i_img]\r\n",
        "    draw_item(row, sp)"
      ],
      "execution_count": null,
      "outputs": []
    },
    {
      "cell_type": "code",
      "metadata": {
        "id": "9bjFqgExNdla"
      },
      "source": [
        "def show_products_with_class(indexes, columns, dataset):\r\n",
        "  def show_single_product_with_class(row, sp):\r\n",
        "    plt.axis('off')\r\n",
        "    plt.imshow(row['image'])\r\n",
        "    sp.set_title(row['class'], fontsize=10)\r\n",
        "  plot_grid(indexes, columns, dataset, show_single_product_with_class)\r\n",
        "\r\n",
        "show_products_with_class(np.random.randint(0, len(products), 6), 2, products)"
      ],
      "execution_count": null,
      "outputs": []
    },
    {
      "cell_type": "code",
      "metadata": {
        "id": "Y-OrlAhPYOH2"
      },
      "source": [
        "color = (255, 255, 0)\r\n",
        "\r\n",
        "def show_shelf_with_bbox_and_classes(indexes, columns, dataset):\r\n",
        "  def show_single_shelf(row, sp):\r\n",
        "    img = row['image'].copy()\r\n",
        "    for i, bbox in enumerate(row['bboxes']):\r\n",
        "      [xmin, xmax, ymin, ymax] = bbox\r\n",
        "      height, width, _ = img.shape\r\n",
        "      xmin = int(xmin * width)\r\n",
        "      xmax = int(xmax * width)\r\n",
        "      ymin = int(ymin * height)\r\n",
        "      ymax = int(ymax * height)\r\n",
        "      thickness = round(max(width, height) * 0.01)\r\n",
        "      cv2.rectangle(img, (xmin, ymin), (xmax, ymax), color, thickness)\r\n",
        "      cv2.putText(img,\r\n",
        "                  class_name(row['class_indexes'][i]),\r\n",
        "                  (round(xmin + thickness * 1.5), round(ymin + thickness * 3)),\r\n",
        "                  cv2.FONT_HERSHEY_SIMPLEX,\r\n",
        "                  2.5,\r\n",
        "                  color,\r\n",
        "                  thickness=round(thickness/2))\r\n",
        "    plt.axis('off')\r\n",
        "    plt.imshow(img)\r\n",
        "  plot_grid(indexes, columns, dataset, show_single_shelf)\r\n",
        "\r\n",
        "show_shelf_with_bbox_and_classes(np.random.randint(0, len(store), 1), 2, store)"
      ],
      "execution_count": null,
      "outputs": []
    }
  ]
}