{
  "nbformat": 4,
  "nbformat_minor": 0,
  "metadata": {
    "colab": {
      "name": "StoreProduct_DatasetGenerator.ipynb",
      "private_outputs": true,
      "provenance": [],
      "collapsed_sections": [
        "NYAtcMOAGkIh",
        "4k8wnPIHwMR4",
        "IifnByBewpq9",
        "czcedvVCNoSX",
        "UM9BsdVmNoSX",
        "v7z17jtMNoSX",
        "9LR8gLNUNoSY",
        "qNhvyoBjpz3t"
      ],
      "machine_shape": "hm",
      "include_colab_link": true
    },
    "kernelspec": {
      "display_name": "Python 3",
      "name": "python3"
    }
  },
  "cells": [
    {
      "cell_type": "markdown",
      "metadata": {
        "id": "view-in-github",
        "colab_type": "text"
      },
      "source": [
        "<a href=\"https://colab.research.google.com/github/ldeluigi/supermarket-2077-product-vision/blob/master/StoreProduct_DatasetGenerator.ipynb\" target=\"_parent\"><img src=\"https://colab.research.google.com/assets/colab-badge.svg\" alt=\"Open In Colab\"/></a>"
      ]
    },
    {
      "cell_type": "markdown",
      "metadata": {
        "id": "NYAtcMOAGkIh"
      },
      "source": [
        "# Preliminary Operations"
      ]
    },
    {
      "cell_type": "code",
      "metadata": {
        "id": "RQmWhRKUE5oy"
      },
      "source": [
        "!rm -rf sample_data\n",
        "!gdown --id 1fDr4g4wbnSRkuCYyS3wpuJS7Ax22bVB_ -O all.zip\n",
        "!unzip -oq all.zip\n",
        "\n",
        "%matplotlib inline"
      ],
      "execution_count": null,
      "outputs": []
    },
    {
      "cell_type": "code",
      "metadata": {
        "id": "0Ok-zNdvj5pE"
      },
      "source": [
        "!pip install opencv-contrib-python==4.4.0.44"
      ],
      "execution_count": null,
      "outputs": []
    },
    {
      "cell_type": "code",
      "metadata": {
        "id": "jwPgf35b33UA"
      },
      "source": [
        "import scipy.io\n",
        "import os\n",
        "from pathlib import Path\n",
        "import re\n",
        "import cv2\n",
        "import matplotlib.pyplot as plt\n",
        "import numpy as np\n",
        "import math\n",
        "import itertools\n",
        "import shutil\n",
        "from tqdm.notebook import tqdm\n",
        "from keras.preprocessing.image import ImageDataGenerator"
      ],
      "execution_count": null,
      "outputs": []
    },
    {
      "cell_type": "markdown",
      "metadata": {
        "id": "4k8wnPIHwMR4"
      },
      "source": [
        "# Data Visualization Utilities"
      ]
    },
    {
      "cell_type": "code",
      "metadata": {
        "id": "-x36OMLMbXC4"
      },
      "source": [
        "def show_image(img):\n",
        "  plt.axis('off')\n",
        "  plt.imshow(img)\n",
        "\n",
        "def show_grayscale_image(img):\n",
        "  show_image(cv2.merge([img, img, img]))\n",
        "\n",
        "def plot_grid(images, columns, show_axis=False, labels=None):\n",
        "  if len(images) == 0 or columns <= 0:\n",
        "    return\n",
        "  height = 1 + math.ceil(len(images) / columns) * 2\n",
        "  width = columns * 4\n",
        "  dpi = max(images[0].shape[0], images[0].shape[1]) // 2\n",
        "  fig = plt.figure(figsize=(width, height), dpi=dpi)\n",
        "  fig.subplots_adjust(hspace=0.4)\n",
        "  for index, img in enumerate(images, start=1):\n",
        "    if 'float' in img.dtype.str:\n",
        "      img = (img * 255).astype('uint8')\n",
        "    sp = fig.add_subplot(math.ceil(len(images) / columns), columns, index)\n",
        "    if not show_axis:\n",
        "      plt.axis('off')\n",
        "    plt.imshow(img)\n",
        "    if labels is not None:\n",
        "      l = len(labels)\n",
        "      sp.set_title(labels[(index-1) % l], fontsize=10)\n",
        "    else:\n",
        "      sp.set_title(index, fontsize=10)\n",
        "\n",
        "def dataset_plot_grid(indexes, columns, dataset, draw_item):\n",
        "  fig = plt.figure(figsize=(12, 6), dpi=120)\n",
        "  # fig.subplots_adjust(hspace=0.2)\n",
        "  for index, i_img in enumerate(indexes, start=1):\n",
        "    sp = fig.add_subplot(math.ceil(len(indexes) / columns), columns, index)\n",
        "    row = dataset[i_img]\n",
        "    draw_item(row, sp)"
      ],
      "execution_count": null,
      "outputs": []
    },
    {
      "cell_type": "markdown",
      "metadata": {
        "id": "IifnByBewpq9"
      },
      "source": [
        "# Raw image loading"
      ]
    },
    {
      "cell_type": "markdown",
      "metadata": {
        "id": "8c-J_rx58YtO"
      },
      "source": [
        "## Utilities to read raw data from disk"
      ]
    },
    {
      "cell_type": "code",
      "metadata": {
        "id": "vDIdYTwp8ep0"
      },
      "source": [
        "training_dirname = 'Training'\n",
        "\n",
        "def create_class_label(class_index, class_name):\n",
        "  return class_name\n",
        "\n",
        "def read_classes():\n",
        "  mat = scipy.io.loadmat(os.path.join(training_dirname, 'TrainingClassesIndex.mat'))\n",
        "  raw_classes = list(map(lambda x: x[0], mat['classes'][0]))\n",
        "  classes = map(lambda x: (x[0], create_class_label(*x)), enumerate(raw_classes, start=1))\n",
        "  return dict(classes), dict(enumerate(raw_classes, start=1))\n",
        "\n",
        "def read_training_data(classes):\n",
        "  images = []\n",
        "  class_indices = []\n",
        "  for class_index, class_name in classes.items():\n",
        "    dirname_images = os.path.join(training_dirname, class_name)\n",
        "    directory_images = os.fsencode(dirname_images)\n",
        "    for file in os.listdir(directory_images):\n",
        "      img = cv2.imread(os.path.join(dirname_images, os.fsdecode(file)))\n",
        "      img_rgb =  cv2.cvtColor(img, cv2.COLOR_BGR2RGB)\n",
        "      images.append(img_rgb)\n",
        "      class_indices.append(class_index)\n",
        "  return images, class_indices\n",
        "\n",
        "def read_store_data():\n",
        "  images = []\n",
        "  class_indices = []\n",
        "  bounding_boxes = []\n",
        "  labels = []\n",
        "  for i in range(5):\n",
        "    storename = 'store' + str(i + 1)\n",
        "    dirname_anno = os.path.join(storename, 'annotation')\n",
        "    dirname_images = os.path.join(storename, 'images')\n",
        "    directory_anno = os.fsencode(dirname_anno)\n",
        "    directory_images = os.fsencode(dirname_images)\n",
        "\n",
        "    for file in os.listdir(directory_anno):\n",
        "      filename = os.fsdecode(file)\n",
        "      if filename.endswith(\".mat\"): \n",
        "        mat = scipy.io.loadmat(os.path.join(dirname_anno, filename))\n",
        "        number = re.search(r'^anno.(\\d+).mat$', filename).group(1)\n",
        "        img = cv2.imread(os.path.join(dirname_images, number + '.jpg'))\n",
        "\n",
        "        img_rgb = cv2.cvtColor(img, cv2.COLOR_BGR2RGB)\n",
        "        img_annotation = mat['annotation'][0, 0]\n",
        "        def clamp(x):\n",
        "          return max(0, min(1, x))\n",
        "        def clamp_box(box):\n",
        "          return list(map(clamp, box))\n",
        "        bounding_boxes.append(list(map(lambda x: clamp_box(x[0]), img_annotation[0][0])))\n",
        "        print(img_annotation)\n",
        "        labels.append(list(map(lambda x: str(x[0][0][0]), img_annotation[1][0])))\n",
        "        classes_in_image = img_annotation[2][0]\n",
        "        most_frequent_class = mode(classes_in_image)[0][0]\n",
        "        img_rgb = cv2.GaussianBlur(img_rgb, (3, 3), 0)\n",
        "        images.append(img_rgb)\n",
        "        class_indices.append(most_frequent_class)\n",
        "  return images, class_indices, bounding_boxes, labels"
      ],
      "execution_count": null,
      "outputs": []
    },
    {
      "cell_type": "markdown",
      "metadata": {
        "id": "JUSUqmzUNoST"
      },
      "source": [
        "## Prepare products class dictionary"
      ]
    },
    {
      "cell_type": "code",
      "metadata": {
        "id": "exz2n1l6NoSW"
      },
      "source": [
        "classes, raw_classes = read_classes()\n",
        "\n",
        "def class_name(class_index):\n",
        "  return classes[class_index] if class_index >= 0 else None"
      ],
      "execution_count": null,
      "outputs": []
    },
    {
      "cell_type": "markdown",
      "metadata": {
        "id": "c3MOBrBrNoSW"
      },
      "source": [
        "## Load training raw images"
      ]
    },
    {
      "cell_type": "code",
      "metadata": {
        "id": "M_yK63lINoSW"
      },
      "source": [
        "products, products_classes = read_training_data(raw_classes)"
      ],
      "execution_count": null,
      "outputs": []
    },
    {
      "cell_type": "markdown",
      "metadata": {
        "id": "Wdgzi0lC1x3T"
      },
      "source": [
        "## Products visualization"
      ]
    },
    {
      "cell_type": "code",
      "metadata": {
        "id": "EcLzx8uY10oS"
      },
      "source": [
        "def show_products_with_class(indexes, columns, dataset):\n",
        "  def show_single_product_with_class(row, sp):\n",
        "    img, class_index = row\n",
        "    plt.axis('off')\n",
        "    plt.imshow(img)\n",
        "    sp.set_title(class_name(class_index), fontsize=10)\n",
        "  dataset_plot_grid(indexes, columns, dataset, show_single_product_with_class)\n",
        "\n",
        "show_products_with_class(np.random.randint(0, len(products), 6), 3, list(zip(products, products_classes)))"
      ],
      "execution_count": null,
      "outputs": []
    },
    {
      "cell_type": "markdown",
      "metadata": {
        "id": "czcedvVCNoSX"
      },
      "source": [
        "# Raw Image preprocessing"
      ]
    },
    {
      "cell_type": "markdown",
      "metadata": {
        "id": "UM9BsdVmNoSX"
      },
      "source": [
        "## Background removal"
      ]
    },
    {
      "cell_type": "code",
      "metadata": {
        "id": "go6lv7htNoSX"
      },
      "source": [
        "# code taken from https://www.kaggle.com/vadbeg/opencv-background-removal and modified\n",
        "\n",
        "def remove_background(img, threshold, use_mask=False):\n",
        "  gray = cv2.cvtColor(img, cv2.COLOR_RGB2GRAY)\n",
        "  _, threshed = cv2.threshold(gray, threshold, 255, cv2.THRESH_BINARY_INV)\n",
        "\n",
        "  kernel_size = round(max(img.shape[0], img.shape[1]) * 0.02)\n",
        "  kernel = cv2.getStructuringElement(cv2.MORPH_ELLIPSE, (kernel_size, kernel_size))\n",
        "  morphed = cv2.morphologyEx(threshed, cv2.MORPH_CLOSE, kernel)\n",
        "\n",
        "  cnts = cv2.findContours(morphed, \n",
        "                          cv2.RETR_EXTERNAL,\n",
        "                          cv2.CHAIN_APPROX_SIMPLE)[0] # should be [1] for cv2 version <= 4\n",
        "\n",
        "  cnts = sorted(cnts, key=cv2.contourArea)\n",
        "\n",
        "  mask = cv2.drawContours(threshed, [cnts[-1]], 0, [255], cv2.FILLED)\n",
        "\n",
        "  x, y, w, h = cv2.boundingRect(cnts[-1])\n",
        "\n",
        "  if use_mask:\n",
        "    masked_data = cv2.bitwise_and(img, img, mask=mask)\n",
        "    dst = masked_data[y: y + h, x: x + w]\n",
        "    r, g, b = cv2.split(dst)\n",
        "    alpha = mask[y: y + h, x: x + w]\n",
        "\n",
        "    rgba = [r, g, b, alpha]\n",
        "    dst = cv2.merge(rgba, 4)\n",
        "  else:\n",
        "    dst = img[y: y + h, x: x + w]\n",
        "\n",
        "  return dst\n",
        "\n",
        "n = 778\n",
        "print(f'Index: {n}')\n",
        "print(f'Class: {class_name(products_classes[n])}')\n",
        "plot_grid([products[n], remove_background(products[n], 250)], 2, show_axis=True)"
      ],
      "execution_count": null,
      "outputs": []
    },
    {
      "cell_type": "markdown",
      "metadata": {
        "id": "9LR8gLNUNoSY"
      },
      "source": [
        "## Dataset preparation\n",
        "\n"
      ]
    },
    {
      "cell_type": "markdown",
      "metadata": {
        "id": "VOyo96qdNoSY"
      },
      "source": [
        "### Image cleaning"
      ]
    },
    {
      "cell_type": "code",
      "metadata": {
        "id": "ErK6wz2TNoSY"
      },
      "source": [
        "def clean_image(img):\n",
        "  threshold = 250\n",
        "  img = remove_background(img, threshold)\n",
        "  return img"
      ],
      "execution_count": null,
      "outputs": []
    },
    {
      "cell_type": "markdown",
      "metadata": {
        "id": "7Q7xa0oHNoSY"
      },
      "source": [
        "### Prepare dataset"
      ]
    },
    {
      "cell_type": "code",
      "metadata": {
        "id": "jnNYgxhcL48z"
      },
      "source": [
        "all_products_images = []\n",
        "for image, class_index in zip(products, products_classes):\n",
        "  cleaned_image = clean_image(image)\n",
        "  all_products_images.append(cleaned_image)\n",
        "\n",
        "print(len(all_products_images))"
      ],
      "execution_count": null,
      "outputs": []
    },
    {
      "cell_type": "markdown",
      "metadata": {
        "id": "G6lkWXOxry8n"
      },
      "source": [
        "# Dataset reduction"
      ]
    },
    {
      "cell_type": "code",
      "metadata": {
        "id": "rSHFiKcRTHrZ"
      },
      "source": [
        "store_images_raw, store_classes_raw, store_bounding_boxes, store_product_labels = read_store_data()"
      ],
      "execution_count": null,
      "outputs": []
    },
    {
      "cell_type": "code",
      "metadata": {
        "id": "wjt05g1Mrsw0"
      },
      "source": [
        "import csv, json\n",
        "\n",
        "def class_should_be_kept(class_index):\n",
        "  name = class_name(class_index)\n",
        "  valid_prefixes = [\n",
        "    'Background',\n",
        "    'Food/Bakery',\n",
        "    'Food/Biscuits',\n",
        "    'Food/Cereals',\n",
        "    'Food/Coffee',\n",
        "    'Food/Drinks',\n",
        "    'Food/Jars-Cans',\n",
        "    'Food/Pasta',\n",
        "    'Food/Tea'\n",
        "  ]\n",
        "  return any(map(lambda x: name.startswith(x), valid_prefixes))\n",
        "\n",
        "#store_images_raw, store_classes_raw, store_bounding_boxes, store_product_labels = read_store_data()\n",
        "output_dir = 'out'\n",
        "!rm -rf \"$output_dir\"\n",
        "training_dir = os.path.join(output_dir, 'Training')\n",
        "store_dir = os.path.join(output_dir, 'Store')\n",
        "!mkdir -p \"$training_dir\"\n",
        "!mkdir -p \"$store_dir\"\n",
        "image_index = 0\n",
        "new_image_classes = []\n",
        "product_index_map = {}\n",
        "for index, image, class_index in zip(range(len(all_products_images)), all_products_images, products_classes):\n",
        "  if class_should_be_kept(class_index):\n",
        "    name = class_name(class_index)\n",
        "    class_path = os.path.join(training_dir, name)\n",
        "    os.makedirs(class_path, exist_ok=True)\n",
        "    image_name = os.path.join(class_path, f'{image_index}.jpg')\n",
        "    cv2.imwrite(image_name, cv2.cvtColor(image, cv2.COLOR_RGB2BGR))\n",
        "    product_index_map[index] = image_index\n",
        "    image_index += 1\n",
        "    new_image_classes.append(class_index)\n",
        "\n",
        "image_index = 0\n",
        "\n",
        "with open(os.path.join(store_dir, r'store.csv'), 'a+', newline='') as csvfile:\n",
        "  fieldnames = ['image_index', 'bounding_box', 'product_label']\n",
        "  writer = csv.DictWriter(csvfile, fieldnames=fieldnames)\n",
        "  writer.writeheader()\n",
        "  for image, bboxes, labels in zip(store_images_raw, store_bounding_boxes, store_product_labels):\n",
        "    if all([class_should_be_kept(products_classes[int(l)]) for l in labels]):\n",
        "      image_name = os.path.join(store_dir, f'{image_index}.jpg')\n",
        "      cv2.imwrite(image_name, cv2.cvtColor(image, cv2.COLOR_RGB2BGR))\n",
        "      for bbox, label in zip(bboxes, labels):\n",
        "        new_index = product_index_map[int(label)]\n",
        "        writer.writerow({'image_index' : image_index, 'bounding_box': json.dumps(bbox), 'product_label' : new_index})\n",
        "      image_index += 1"
      ],
      "execution_count": null,
      "outputs": []
    },
    {
      "cell_type": "code",
      "metadata": {
        "id": "_o2ukyhZaJcI"
      },
      "source": [
        "!rm -f products_classifier_data.zip && zip -r products_classifier_data.zip out/Training out/Store"
      ],
      "execution_count": null,
      "outputs": []
    },
    {
      "cell_type": "code",
      "metadata": {
        "id": "_ubE0klRcSXU"
      },
      "source": [
        "from google.colab import files\n",
        "files.download('products_classifier_data.zip') "
      ],
      "execution_count": null,
      "outputs": []
    }
  ]
}